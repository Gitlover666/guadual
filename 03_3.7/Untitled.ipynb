{
 "cells": [
  {
   "cell_type": "code",
   "execution_count": 10,
   "metadata": {},
   "outputs": [
    {
     "ename": "ModuleNotFoundError",
     "evalue": "No module named 'graphvis'",
     "output_type": "error",
     "traceback": [
      "\u001b[0;31m---------------------------------------------------------------------------\u001b[0m",
      "\u001b[0;31mModuleNotFoundError\u001b[0m                       Traceback (most recent call last)",
      "\u001b[0;32m<ipython-input-10-7b972fe0acdc>\u001b[0m in \u001b[0;36m<module>\u001b[0;34m()\u001b[0m\n\u001b[0;32m----> 1\u001b[0;31m \u001b[0;32mimport\u001b[0m \u001b[0mgraphvis\u001b[0m\u001b[0;34m\u001b[0m\u001b[0m\n\u001b[0m",
      "\u001b[0;31mModuleNotFoundError\u001b[0m: No module named 'graphvis'"
     ]
    }
   ],
   "source": [
    "import graphvis\n"
   ]
  },
  {
   "cell_type": "code",
   "execution_count": 11,
   "metadata": {},
   "outputs": [],
   "source": [
    "import pandas as pd\n",
    "data = pd.read_csv(\"冠心病.csv\")"
   ]
  },
  {
   "cell_type": "code",
   "execution_count": 12,
   "metadata": {},
   "outputs": [
    {
     "data": {
      "text/html": [
       "<div>\n",
       "<style scoped>\n",
       "    .dataframe tbody tr th:only-of-type {\n",
       "        vertical-align: middle;\n",
       "    }\n",
       "\n",
       "    .dataframe tbody tr th {\n",
       "        vertical-align: top;\n",
       "    }\n",
       "\n",
       "    .dataframe thead th {\n",
       "        text-align: right;\n",
       "    }\n",
       "</style>\n",
       "<table border=\"1\" class=\"dataframe\">\n",
       "  <thead>\n",
       "    <tr style=\"text-align: right;\">\n",
       "      <th></th>\n",
       "      <th>FO</th>\n",
       "      <th>I</th>\n",
       "      <th>F1</th>\n",
       "      <th>F2</th>\n",
       "      <th>F3</th>\n",
       "      <th>F4</th>\n",
       "      <th>B1</th>\n",
       "      <th>B2</th>\n",
       "      <th>B3</th>\n",
       "      <th>B4</th>\n",
       "      <th>CD</th>\n",
       "    </tr>\n",
       "  </thead>\n",
       "  <tbody>\n",
       "    <tr>\n",
       "      <th>0</th>\n",
       "      <td>148.004</td>\n",
       "      <td>71.000</td>\n",
       "      <td>1026.561</td>\n",
       "      <td>1585.218</td>\n",
       "      <td>2920.418</td>\n",
       "      <td>3946.309</td>\n",
       "      <td>138.818</td>\n",
       "      <td>180.025</td>\n",
       "      <td>1061.236</td>\n",
       "      <td>740.416</td>\n",
       "      <td>0</td>\n",
       "    </tr>\n",
       "    <tr>\n",
       "      <th>1</th>\n",
       "      <td>130.715</td>\n",
       "      <td>65.407</td>\n",
       "      <td>925.864</td>\n",
       "      <td>1727.784</td>\n",
       "      <td>2825.293</td>\n",
       "      <td>4070.821</td>\n",
       "      <td>191.351</td>\n",
       "      <td>133.566</td>\n",
       "      <td>126.485</td>\n",
       "      <td>564.661</td>\n",
       "      <td>1</td>\n",
       "    </tr>\n",
       "    <tr>\n",
       "      <th>2</th>\n",
       "      <td>358.595</td>\n",
       "      <td>46.197</td>\n",
       "      <td>897.688</td>\n",
       "      <td>1737.664</td>\n",
       "      <td>3025.684</td>\n",
       "      <td>4095.229</td>\n",
       "      <td>458.881</td>\n",
       "      <td>256.046</td>\n",
       "      <td>484.461</td>\n",
       "      <td>602.989</td>\n",
       "      <td>2</td>\n",
       "    </tr>\n",
       "    <tr>\n",
       "      <th>3</th>\n",
       "      <td>244.948</td>\n",
       "      <td>68.042</td>\n",
       "      <td>1081.502</td>\n",
       "      <td>1676.727</td>\n",
       "      <td>2995.630</td>\n",
       "      <td>4140.143</td>\n",
       "      <td>145.002</td>\n",
       "      <td>145.345</td>\n",
       "      <td>809.150</td>\n",
       "      <td>378.717</td>\n",
       "      <td>0</td>\n",
       "    </tr>\n",
       "    <tr>\n",
       "      <th>4</th>\n",
       "      <td>199.676</td>\n",
       "      <td>64.189</td>\n",
       "      <td>900.887</td>\n",
       "      <td>1630.035</td>\n",
       "      <td>2998.414</td>\n",
       "      <td>3856.071</td>\n",
       "      <td>183.930</td>\n",
       "      <td>114.576</td>\n",
       "      <td>508.882</td>\n",
       "      <td>341.951</td>\n",
       "      <td>1</td>\n",
       "    </tr>\n",
       "  </tbody>\n",
       "</table>\n",
       "</div>"
      ],
      "text/plain": [
       "        FO       I        F1        F2        F3        F4       B1       B2  \\\n",
       "0  148.004  71.000  1026.561  1585.218  2920.418  3946.309  138.818  180.025   \n",
       "1  130.715  65.407   925.864  1727.784  2825.293  4070.821  191.351  133.566   \n",
       "2  358.595  46.197   897.688  1737.664  3025.684  4095.229  458.881  256.046   \n",
       "3  244.948  68.042  1081.502  1676.727  2995.630  4140.143  145.002  145.345   \n",
       "4  199.676  64.189   900.887  1630.035  2998.414  3856.071  183.930  114.576   \n",
       "\n",
       "         B3       B4  CD  \n",
       "0  1061.236  740.416   0  \n",
       "1   126.485  564.661   1  \n",
       "2   484.461  602.989   2  \n",
       "3   809.150  378.717   0  \n",
       "4   508.882  341.951   1  "
      ]
     },
     "execution_count": 12,
     "metadata": {},
     "output_type": "execute_result"
    }
   ],
   "source": [
    "data.head()"
   ]
  },
  {
   "cell_type": "code",
   "execution_count": 13,
   "metadata": {},
   "outputs": [
    {
     "data": {
      "text/plain": [
       "2    9\n",
       "1    9\n",
       "0    9\n",
       "Name: CD, dtype: int64"
      ]
     },
     "execution_count": 13,
     "metadata": {},
     "output_type": "execute_result"
    }
   ],
   "source": [
    "data.CD.value_counts()"
   ]
  },
  {
   "cell_type": "code",
   "execution_count": 14,
   "metadata": {},
   "outputs": [
    {
     "data": {
      "text/html": [
       "<div>\n",
       "<style scoped>\n",
       "    .dataframe tbody tr th:only-of-type {\n",
       "        vertical-align: middle;\n",
       "    }\n",
       "\n",
       "    .dataframe tbody tr th {\n",
       "        vertical-align: top;\n",
       "    }\n",
       "\n",
       "    .dataframe thead th {\n",
       "        text-align: right;\n",
       "    }\n",
       "</style>\n",
       "<table border=\"1\" class=\"dataframe\">\n",
       "  <thead>\n",
       "    <tr style=\"text-align: right;\">\n",
       "      <th></th>\n",
       "      <th>FO</th>\n",
       "      <th>I</th>\n",
       "      <th>F1</th>\n",
       "      <th>F2</th>\n",
       "      <th>F3</th>\n",
       "      <th>F4</th>\n",
       "      <th>B1</th>\n",
       "      <th>B2</th>\n",
       "      <th>B3</th>\n",
       "      <th>B4</th>\n",
       "      <th>CD</th>\n",
       "    </tr>\n",
       "  </thead>\n",
       "  <tbody>\n",
       "    <tr>\n",
       "      <th>count</th>\n",
       "      <td>27.000000</td>\n",
       "      <td>27.000000</td>\n",
       "      <td>27.000000</td>\n",
       "      <td>27.000000</td>\n",
       "      <td>27.000000</td>\n",
       "      <td>27.000000</td>\n",
       "      <td>27.000000</td>\n",
       "      <td>27.000000</td>\n",
       "      <td>27.000000</td>\n",
       "      <td>27.000000</td>\n",
       "      <td>27.00000</td>\n",
       "    </tr>\n",
       "    <tr>\n",
       "      <th>mean</th>\n",
       "      <td>170.194852</td>\n",
       "      <td>68.434222</td>\n",
       "      <td>946.819148</td>\n",
       "      <td>1635.067407</td>\n",
       "      <td>2883.834704</td>\n",
       "      <td>3893.181815</td>\n",
       "      <td>279.674333</td>\n",
       "      <td>268.450741</td>\n",
       "      <td>551.727630</td>\n",
       "      <td>513.271370</td>\n",
       "      <td>1.00000</td>\n",
       "    </tr>\n",
       "    <tr>\n",
       "      <th>std</th>\n",
       "      <td>65.752571</td>\n",
       "      <td>8.761974</td>\n",
       "      <td>128.648445</td>\n",
       "      <td>169.087944</td>\n",
       "      <td>180.985875</td>\n",
       "      <td>220.509958</td>\n",
       "      <td>249.899708</td>\n",
       "      <td>216.990771</td>\n",
       "      <td>385.671809</td>\n",
       "      <td>612.042338</td>\n",
       "      <td>0.83205</td>\n",
       "    </tr>\n",
       "    <tr>\n",
       "      <th>min</th>\n",
       "      <td>85.074000</td>\n",
       "      <td>46.197000</td>\n",
       "      <td>734.216000</td>\n",
       "      <td>1314.782000</td>\n",
       "      <td>2594.769000</td>\n",
       "      <td>3422.091000</td>\n",
       "      <td>64.557000</td>\n",
       "      <td>73.962000</td>\n",
       "      <td>104.309000</td>\n",
       "      <td>55.487000</td>\n",
       "      <td>0.00000</td>\n",
       "    </tr>\n",
       "    <tr>\n",
       "      <th>25%</th>\n",
       "      <td>122.060000</td>\n",
       "      <td>63.275500</td>\n",
       "      <td>862.945500</td>\n",
       "      <td>1543.374500</td>\n",
       "      <td>2759.246000</td>\n",
       "      <td>3768.682500</td>\n",
       "      <td>127.040000</td>\n",
       "      <td>113.053000</td>\n",
       "      <td>261.835500</td>\n",
       "      <td>238.400500</td>\n",
       "      <td>0.00000</td>\n",
       "    </tr>\n",
       "    <tr>\n",
       "      <th>50%</th>\n",
       "      <td>156.145000</td>\n",
       "      <td>68.042000</td>\n",
       "      <td>906.736000</td>\n",
       "      <td>1617.420000</td>\n",
       "      <td>2859.306000</td>\n",
       "      <td>3879.876000</td>\n",
       "      <td>183.930000</td>\n",
       "      <td>163.583000</td>\n",
       "      <td>448.677000</td>\n",
       "      <td>341.951000</td>\n",
       "      <td>1.00000</td>\n",
       "    </tr>\n",
       "    <tr>\n",
       "      <th>75%</th>\n",
       "      <td>202.613000</td>\n",
       "      <td>74.182500</td>\n",
       "      <td>1038.844000</td>\n",
       "      <td>1728.584500</td>\n",
       "      <td>2997.022000</td>\n",
       "      <td>4031.774000</td>\n",
       "      <td>356.233500</td>\n",
       "      <td>384.647000</td>\n",
       "      <td>739.015500</td>\n",
       "      <td>638.844000</td>\n",
       "      <td>2.00000</td>\n",
       "    </tr>\n",
       "    <tr>\n",
       "      <th>max</th>\n",
       "      <td>358.595000</td>\n",
       "      <td>89.758000</td>\n",
       "      <td>1203.214000</td>\n",
       "      <td>2011.542000</td>\n",
       "      <td>3365.506000</td>\n",
       "      <td>4397.294000</td>\n",
       "      <td>989.957000</td>\n",
       "      <td>837.431000</td>\n",
       "      <td>1443.122000</td>\n",
       "      <td>3359.796000</td>\n",
       "      <td>2.00000</td>\n",
       "    </tr>\n",
       "  </tbody>\n",
       "</table>\n",
       "</div>"
      ],
      "text/plain": [
       "               FO          I           F1           F2           F3  \\\n",
       "count   27.000000  27.000000    27.000000    27.000000    27.000000   \n",
       "mean   170.194852  68.434222   946.819148  1635.067407  2883.834704   \n",
       "std     65.752571   8.761974   128.648445   169.087944   180.985875   \n",
       "min     85.074000  46.197000   734.216000  1314.782000  2594.769000   \n",
       "25%    122.060000  63.275500   862.945500  1543.374500  2759.246000   \n",
       "50%    156.145000  68.042000   906.736000  1617.420000  2859.306000   \n",
       "75%    202.613000  74.182500  1038.844000  1728.584500  2997.022000   \n",
       "max    358.595000  89.758000  1203.214000  2011.542000  3365.506000   \n",
       "\n",
       "                F4          B1          B2           B3           B4        CD  \n",
       "count    27.000000   27.000000   27.000000    27.000000    27.000000  27.00000  \n",
       "mean   3893.181815  279.674333  268.450741   551.727630   513.271370   1.00000  \n",
       "std     220.509958  249.899708  216.990771   385.671809   612.042338   0.83205  \n",
       "min    3422.091000   64.557000   73.962000   104.309000    55.487000   0.00000  \n",
       "25%    3768.682500  127.040000  113.053000   261.835500   238.400500   0.00000  \n",
       "50%    3879.876000  183.930000  163.583000   448.677000   341.951000   1.00000  \n",
       "75%    4031.774000  356.233500  384.647000   739.015500   638.844000   2.00000  \n",
       "max    4397.294000  989.957000  837.431000  1443.122000  3359.796000   2.00000  "
      ]
     },
     "execution_count": 14,
     "metadata": {},
     "output_type": "execute_result"
    }
   ],
   "source": [
    "data.describe()\n"
   ]
  },
  {
   "cell_type": "code",
   "execution_count": 2,
   "metadata": {},
   "outputs": [
    {
     "ename": "NameError",
     "evalue": "name 'data' is not defined",
     "output_type": "error",
     "traceback": [
      "\u001b[0;31m---------------------------------------------------------------------------\u001b[0m",
      "\u001b[0;31mNameError\u001b[0m                                 Traceback (most recent call last)",
      "\u001b[0;32m<ipython-input-2-47d7268af959>\u001b[0m in \u001b[0;36m<module>\u001b[0;34m()\u001b[0m\n\u001b[0;32m----> 1\u001b[0;31m \u001b[0mfeature\u001b[0m \u001b[0;34m=\u001b[0m \u001b[0mdata\u001b[0m\u001b[0;34m[\u001b[0m\u001b[0;34m[\u001b[0m\u001b[0;34m'F1'\u001b[0m\u001b[0;34m,\u001b[0m \u001b[0;34m'F2'\u001b[0m\u001b[0;34m,\u001b[0m \u001b[0;34m'F3'\u001b[0m\u001b[0;34m,\u001b[0m \u001b[0;34m'B1'\u001b[0m\u001b[0;34m]\u001b[0m\u001b[0;34m]\u001b[0m\u001b[0;34m\u001b[0m\u001b[0m\n\u001b[0m\u001b[1;32m      2\u001b[0m \u001b[0mtarget\u001b[0m \u001b[0;34m=\u001b[0m \u001b[0mdata\u001b[0m\u001b[0;34m[\u001b[0m\u001b[0;34m[\u001b[0m\u001b[0;34m'CD'\u001b[0m\u001b[0;34m]\u001b[0m\u001b[0;34m]\u001b[0m\u001b[0;34m\u001b[0m\u001b[0m\n",
      "\u001b[0;31mNameError\u001b[0m: name 'data' is not defined"
     ]
    }
   ],
   "source": [
    "feature = data[['F1', 'F2', 'F3', 'B1']]\n",
    "target = data[['CD']]"
   ]
  },
  {
   "cell_type": "code",
   "execution_count": 1,
   "metadata": {},
   "outputs": [
    {
     "ename": "NameError",
     "evalue": "name 'feature' is not defined",
     "output_type": "error",
     "traceback": [
      "\u001b[0;31m---------------------------------------------------------------------------\u001b[0m",
      "\u001b[0;31mNameError\u001b[0m                                 Traceback (most recent call last)",
      "\u001b[0;32m<ipython-input-1-67f4a345d949>\u001b[0m in \u001b[0;36m<module>\u001b[0;34m()\u001b[0m\n\u001b[1;32m      1\u001b[0m \u001b[0;32mfrom\u001b[0m \u001b[0msklearn\u001b[0m \u001b[0;32mimport\u001b[0m \u001b[0mtree\u001b[0m\u001b[0;34m\u001b[0m\u001b[0m\n\u001b[1;32m      2\u001b[0m \u001b[0mmodel\u001b[0m \u001b[0;34m=\u001b[0m \u001b[0mtree\u001b[0m\u001b[0;34m.\u001b[0m\u001b[0mDecisionTreeClassifier\u001b[0m\u001b[0;34m(\u001b[0m\u001b[0;34m)\u001b[0m\u001b[0;34m\u001b[0m\u001b[0m\n\u001b[0;32m----> 3\u001b[0;31m \u001b[0mmodel\u001b[0m \u001b[0;34m=\u001b[0m \u001b[0mmodel\u001b[0m\u001b[0;34m.\u001b[0m\u001b[0mfit\u001b[0m\u001b[0;34m(\u001b[0m\u001b[0mfeature\u001b[0m\u001b[0;34m,\u001b[0m \u001b[0mtarget\u001b[0m\u001b[0;34m)\u001b[0m\u001b[0;34m\u001b[0m\u001b[0m\n\u001b[0m",
      "\u001b[0;31mNameError\u001b[0m: name 'feature' is not defined"
     ]
    }
   ],
   "source": [
    "from sklearn import tree\n",
    "model = tree.DecisionTreeClassifier()\n",
    "model = model.fit(feature, target)\n"
   ]
  },
  {
   "cell_type": "code",
   "execution_count": 6,
   "metadata": {},
   "outputs": [
    {
     "name": "stdout",
     "output_type": "stream",
     "text": [
      "Object `target` not found.\n"
     ]
    }
   ],
   "source": [
    "target?"
   ]
  },
  {
   "cell_type": "code",
   "execution_count": null,
   "metadata": {},
   "outputs": [],
   "source": []
  }
 ],
 "metadata": {
  "kernelspec": {
   "display_name": "Python 3",
   "language": "python",
   "name": "python3"
  },
  "language_info": {
   "codemirror_mode": {
    "name": "ipython",
    "version": 3
   },
   "file_extension": ".py",
   "mimetype": "text/x-python",
   "name": "python",
   "nbconvert_exporter": "python",
   "pygments_lexer": "ipython3",
   "version": "3.7.0"
  }
 },
 "nbformat": 4,
 "nbformat_minor": 2
}
